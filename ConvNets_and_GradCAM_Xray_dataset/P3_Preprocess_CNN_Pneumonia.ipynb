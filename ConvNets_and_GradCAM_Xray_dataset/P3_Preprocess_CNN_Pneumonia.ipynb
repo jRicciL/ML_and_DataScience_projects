{
  "nbformat": 4,
  "nbformat_minor": 0,
  "metadata": {
    "colab": {
      "name": "P3_Preprocess_CNN_Pneumonia.ipynb",
      "provenance": [],
      "collapsed_sections": []
    },
    "kernelspec": {
      "name": "python3",
      "display_name": "Python 3"
    }
  },
  "cells": [
    {
      "cell_type": "markdown",
      "metadata": {
        "id": "_XdPZJ-lHVeJ"
      },
      "source": [
        "# PRELIMINARES: Detección de Neumonía a partir de imágenes de rayos X\n",
        "### **P3:** Aprendizaje Profundo - CICESE\n",
        "\n",
        "> **Estudiante:** [Joel Ricci López](https://github.com/jRicciL), 2021\n",
        "\n",
        "[![Open In Colab](https://colab.research.google.com/assets/colab-badge.svg)](https://colab.research.google.com/github/jRicciL/Aprendizaje_profundo_tareas_CICESE/blob/master/Tarea_3_CNN/P3_Preprocess_CNN_Pneumonia.ipynb)\n",
        "\n",
        "\n",
        "\n",
        "***\n",
        "\n",
        "Este notebook contiene únicamente la fase de obtención y manipulación inicial del conjunto de datos.\n",
        "\n",
        "<h3 style='font-weight: bold'>\n",
        "<font color='red'>El notebook principal es el siguiente:</font>\n",
        "</h3>\n",
        "\n",
        "[![Open In Colab](https://colab.research.google.com/assets/colab-badge.svg)](https://colab.research.google.com/github/jRicciL/Aprendizaje_profundo_tareas_CICESE/blob/master/Tarea_3_CNN/P3_ConvolutionalNN_PNEUMONIA_X_ray.ipynb)\n",
        "\n",
        "<br>\n",
        "\n",
        "***\n",
        "## Obtención del conjunto de datos\n",
        "Intalación y acceso a Kaggle desde Colab.\n",
        "```python\n",
        "from google.colab import files\n",
        "files.upload()\n",
        "\n",
        "!pip install -q kaggle\n",
        "!mkdir -p ~/.kaggle\n",
        "!cp kaggle.json ~/.kaggle/\n",
        "!ls ~/.kaggle\n",
        "!chmod 600 /root/.kaggle/kaggle.json\n",
        "```\n",
        "Código para poder accesar a drive desde Colab. Esta celda la dejamos disponible para ejecutarla en cada sesión.\n",
        "```python\n",
        "from google.colab import drive\n",
        "\n",
        "drive.mount('/content/gdrive')\n",
        "root_path = 'gdrive/My Drive/ap-jrl-neumonia/'\n",
        "```\n",
        "\n",
        "Descarga del dataset al directorio de drive.\n",
        "```\n",
        "!kaggle datasets download paultimothymooney/chest-xray-pneumonia -p /content/gdrive/My\\ Drive/kaggle/ap-jrl-neumonia\n",
        "```\n",
        "\n",
        "Descomprime el archivo .zip en el directorio indicado\n",
        "```python\n",
        "# Descomprimimos el archivo\n",
        "import zipfile\n",
        "with zipfile.ZipFile(f'{root_path}/chest-xray-pneumonia.zip', 'r') as zf:\n",
        "  zf.extractall(root_path)\n",
        "```"
      ]
    },
    {
      "cell_type": "markdown",
      "metadata": {
        "id": "H5k8sevMUASJ"
      },
      "source": [
        "## Librerías usadas"
      ]
    },
    {
      "cell_type": "code",
      "metadata": {
        "id": "BUo2ClxtUBma"
      },
      "source": [
        "import numpy as np\n",
        "import pandas as pd\n",
        "import os\n",
        "import matplotlib.pyplot as plt\n",
        "import seaborn as sns\n",
        "sns.set(style='whitegrid', context='talk', palette='Spectral')"
      ],
      "execution_count": null,
      "outputs": []
    },
    {
      "cell_type": "code",
      "metadata": {
        "colab": {
          "base_uri": "https://localhost:8080/"
        },
        "id": "OA4b2VEkHoRf",
        "outputId": "ec23e5b0-e03a-4f33-bdc5-c36fd8ec25ee"
      },
      "source": [
        "from google.colab import drive\n",
        "\n",
        "drive.mount('/content/gdrive/')\n",
        "root_path = '/content/gdrive/My Drive/kaggle/ap-jrl-neumonia/chest_xray'\n",
        "%cd $root_path/\n",
        "%ls"
      ],
      "execution_count": null,
      "outputs": [
        {
          "output_type": "stream",
          "text": [
            "Mounted at /content/gdrive/\n",
            "/content/gdrive/My Drive/kaggle/ap-jrl-neumonia/chest_xray\n",
            "\u001b[0m\u001b[01;34mchest_xray\u001b[0m/  \u001b[01;34m__MACOSX\u001b[0m/  \u001b[01;34mtest\u001b[0m/  \u001b[01;34mtrain\u001b[0m/  \u001b[01;34mval\u001b[0m/\n"
          ],
          "name": "stdout"
        }
      ]
    },
    {
      "cell_type": "markdown",
      "metadata": {
        "id": "7Tfc43KYzIMc"
      },
      "source": [
        "## Conjunto de datos"
      ]
    },
    {
      "cell_type": "code",
      "metadata": {
        "colab": {
          "base_uri": "https://localhost:8080/",
          "height": 112
        },
        "id": "93V655UaGxYH",
        "outputId": "b483168a-d3d5-41f8-d936-f2ddc6565952"
      },
      "source": [
        "# Verificamos que las imágenes se encuentren en su directorio correspondiente\n",
        "# Variables con los paths a los directorios de cada conjunto\n",
        "test_dir = os.path.join(root_path, 'test')\n",
        "train_dir = os.path.join(root_path, 'train')\n",
        "val_dir = os.path.join(root_path, 'val')\n",
        "\n",
        "# Contamos el número de imágenes pertenecientes a cada conjunto\n",
        "def count_samples():\n",
        "  samples = {}\n",
        "  for set_ in ['test', 'train', 'val']:\n",
        "    samples[set_] = {}\n",
        "    for class_ in ['NORMAL', 'PNEUMONIA']:\n",
        "      path = os.path.join(root_path, set_)\n",
        "      k = len(os.listdir(f'{path}/{class_}'))\n",
        "      samples[set_].update({class_: k})\n",
        "  # Almacenamos los datos en un pequeño dataframe\n",
        "  df_samples = pd.DataFrame(samples)\n",
        "  return df_samples\n",
        "\n",
        "df_samples = count_samples()"
      ],
      "execution_count": null,
      "outputs": [
        {
          "output_type": "execute_result",
          "data": {
            "text/html": [
              "<div>\n",
              "<style scoped>\n",
              "    .dataframe tbody tr th:only-of-type {\n",
              "        vertical-align: middle;\n",
              "    }\n",
              "\n",
              "    .dataframe tbody tr th {\n",
              "        vertical-align: top;\n",
              "    }\n",
              "\n",
              "    .dataframe thead th {\n",
              "        text-align: right;\n",
              "    }\n",
              "</style>\n",
              "<table border=\"1\" class=\"dataframe\">\n",
              "  <thead>\n",
              "    <tr style=\"text-align: right;\">\n",
              "      <th></th>\n",
              "      <th>test</th>\n",
              "      <th>train</th>\n",
              "      <th>val</th>\n",
              "    </tr>\n",
              "  </thead>\n",
              "  <tbody>\n",
              "    <tr>\n",
              "      <th>NORMAL</th>\n",
              "      <td>234</td>\n",
              "      <td>1341</td>\n",
              "      <td>8</td>\n",
              "    </tr>\n",
              "    <tr>\n",
              "      <th>PNEUMONIA</th>\n",
              "      <td>390</td>\n",
              "      <td>3875</td>\n",
              "      <td>8</td>\n",
              "    </tr>\n",
              "  </tbody>\n",
              "</table>\n",
              "</div>"
            ],
            "text/plain": [
              "           test  train  val\n",
              "NORMAL      234   1341    8\n",
              "PNEUMONIA   390   3875    8"
            ]
          },
          "metadata": {
            "tags": []
          },
          "execution_count": 107
        }
      ]
    },
    {
      "cell_type": "code",
      "metadata": {
        "colab": {
          "base_uri": "https://localhost:8080/",
          "height": 387
        },
        "id": "eljhAKRNIVej",
        "outputId": "7478e10d-96b3-42f9-a94f-4ce3da4924de"
      },
      "source": [
        "# Número total de observaciones\n",
        "n = df_samples.values.sum()\n",
        "# Número de casos positivos y de casos negativos\n",
        "n_neg, n_pos = df_samples.sum(axis = 1).values\n",
        "\n",
        "print(f'Num. de casos positivos: {n_pos} = {n_pos / n:.2f}')\n",
        "print(f'Num. de casos negativos: {n_neg} = {n_neg / n:.2f}')\n",
        "\n",
        "# Visualización\n",
        "fig, ax = plt.subplots(2,1, figsize=(10, 5))\n",
        "# Número total de casos\n",
        "ax[0].barh(['Pneumonia/Normal'], [n_pos])\n",
        "ax[0].barh(['Pneumonia/Normal'], [n_neg], left=[n_pos])\n",
        "ax[0].set(title='Total de casos Neumonía vs Normal')\n",
        "# Proporción de etiquetas por set\n",
        "(df_samples / df_samples.sum()).iloc[::-1].T.plot(kind='barh', ax = ax[1],\n",
        "      xlim=(0, 1), title='Proporción de clases por conjunto de datos')\n",
        "plt.tight_layout()\n",
        "plt.legend(loc='center left', bbox_to_anchor=(1.0, 0.5))\n",
        "plt.show()"
      ],
      "execution_count": null,
      "outputs": [
        {
          "output_type": "stream",
          "text": [
            "Num. de casos positivos: 4273 = 0.73\n",
            "Num. de casos negativos: 1583 = 0.27\n"
          ],
          "name": "stdout"
        },
        {
          "output_type": "display_data",
          "data": {
            "image/png": "[encoded data removed]",
            "text/plain": [
              "<Figure size 720x360 with 2 Axes>"
            ]
          },
          "metadata": {
            "tags": []
          }
        }
      ]
    },
    {
      "cell_type": "markdown",
      "metadata": {
        "id": "JGZYeyCJXcH3"
      },
      "source": [
        "- **El conjunto de datos está desbalanceado**, con el 73% de muestras positivas y el 27% de muestras negativas.\n",
        "- Además, **dicho desbalance no es el mismo** entre los tres conjuntos de datos (`train`, `test`, y `validation`)."
      ]
    },
    {
      "cell_type": "code",
      "metadata": {
        "id": "_sMW69FLb8Ls"
      },
      "source": [
        "import shutil\n",
        "# Definir cuantas imagenes mover del set de entrenamiento a los otros sets\n",
        "\n",
        "def n_files_to_move(pct=0.75, subset='train'):\n",
        "  '''Indica el número imágenes positivas y negativas a \n",
        "  mover desde el `subse` indicado'''\n",
        "  # Valores ideales para cumplir con el ptc indicado\n",
        "  n_train = int(n * pct)\n",
        "  p_pos_T = n_pos / n\n",
        "  n_pos_T = int(n_train * p_pos)\n",
        "  p_neg_T = n_neg / n\n",
        "  n_neg_T = int(n_train * p_neg)\n",
        "  # Valores reales\n",
        "  pos_to_move = n_pos_T - df_samples.loc['PNEUMONIA', subset]\n",
        "  neg_to_move = n_neg_T - df_samples.loc['NORMAL', subset]\n",
        "  return (pos_to_move, neg_to_move)\n",
        "\n",
        "def move_images_from_dir(from_dir, to_dir, n_pos, n_neg):\n",
        "  for dir, k in zip(['PNEUMONIA', 'NORMAL'], [n_pos, n_neg]):\n",
        "    if k <= 0:\n",
        "      continue\n",
        "    from_ = f'{from_dir}/{dir}/'\n",
        "    files = os.listdir(from_)\n",
        "    files = np.random.choice(files, size=k, replace=False)\n",
        "    for file in files:\n",
        "      shutil.move(f'{from_}/{file}', f'{to_dir}/{dir}/')\n",
        "    print(50*'*' + '\\n', \n",
        "          f'Se movieron {k} archivos de {from_dir}/{dir} a {to_dir}/{dir} ')"
      ],
      "execution_count": null,
      "outputs": []
    },
    {
      "cell_type": "code",
      "metadata": {
        "colab": {
          "base_uri": "https://localhost:8080/"
        },
        "id": "ckmXwsfhthhE",
        "outputId": "11beae37-6c18-4bf8-aaaa-adb1f3508b13"
      },
      "source": [
        "n_post_test, n_neg_test = n_files_to_move(0.1, 'test')\n",
        "# Movemos los archivos de train a test\n",
        "move_images_from_dir(train_dir, test_dir, n_post_test, n_neg_test)\n",
        "\n",
        "df_samples = count_samples()\n",
        "n_files_to_test = n_files_to_move(0.1, 'test')\n",
        "n_files_to_test"
      ],
      "execution_count": null,
      "outputs": [
        {
          "output_type": "stream",
          "text": [
            "**************************************************\n",
            " Se movieron 36 archivos de /content/gdrive/My Drive/kaggle/ap-jrl-neumonia/chest_xray/train/PNEUMONIA a /content/gdrive/My Drive/kaggle/ap-jrl-neumonia/chest_xray/test/PNEUMONIA \n"
          ],
          "name": "stdout"
        },
        {
          "output_type": "execute_result",
          "data": {
            "text/plain": [
              "(0, -76)"
            ]
          },
          "metadata": {
            "tags": []
          },
          "execution_count": 136
        }
      ]
    },
    {
      "cell_type": "code",
      "metadata": {
        "colab": {
          "base_uri": "https://localhost:8080/"
        },
        "id": "U-YnGHhE2hBq",
        "outputId": "c72589f4-cd96-406d-8168-4717c465f1f3"
      },
      "source": [
        "# Ahora hay que mover 76 archivos negativos de test a validacion\n",
        "move_images_from_dir(test_dir, val_dir, 0, 76)\n",
        "\n",
        "df_samples = count_samples()\n",
        "n_files_to_test = n_files_to_move(0.1, 'test')\n",
        "n_files_to_test"
      ],
      "execution_count": null,
      "outputs": [
        {
          "output_type": "stream",
          "text": [
            "**************************************************\n",
            " Se movieron 76 archivos de /content/gdrive/My Drive/kaggle/ap-jrl-neumonia/chest_xray/test/NORMAL a /content/gdrive/My Drive/kaggle/ap-jrl-neumonia/chest_xray/val/NORMAL \n"
          ],
          "name": "stdout"
        },
        {
          "output_type": "execute_result",
          "data": {
            "text/plain": [
              "(0, 0)"
            ]
          },
          "metadata": {
            "tags": []
          },
          "execution_count": 139
        }
      ]
    },
    {
      "cell_type": "code",
      "metadata": {
        "colab": {
          "base_uri": "https://localhost:8080/"
        },
        "id": "8yunNzQ64X5B",
        "outputId": "f994f078-704d-444f-a504-7caa7c4d5b83"
      },
      "source": [
        "# Finalmente, movemos archivos de train a validacion\n",
        "n_post_val, n_neg_val = n_files_to_move(0.1, 'val')\n",
        "# Movemos los archivos de train a test\n",
        "move_images_from_dir(train_dir, val_dir, n_post_val, n_neg_val)\n",
        "\n",
        "df_samples = count_samples()\n",
        "n_files_to_val = n_files_to_move(0.1, 'val')\n",
        "n_files_to_val"
      ],
      "execution_count": null,
      "outputs": [
        {
          "output_type": "stream",
          "text": [
            "**************************************************\n",
            " Se movieron 418 archivos de /content/gdrive/My Drive/kaggle/ap-jrl-neumonia/chest_xray/train/PNEUMONIA a /content/gdrive/My Drive/kaggle/ap-jrl-neumonia/chest_xray/val/PNEUMONIA \n",
            "**************************************************\n",
            " Se movieron 74 archivos de /content/gdrive/My Drive/kaggle/ap-jrl-neumonia/chest_xray/train/NORMAL a /content/gdrive/My Drive/kaggle/ap-jrl-neumonia/chest_xray/val/NORMAL \n"
          ],
          "name": "stdout"
        },
        {
          "output_type": "execute_result",
          "data": {
            "text/plain": [
              "(0, 0)"
            ]
          },
          "metadata": {
            "tags": []
          },
          "execution_count": 143
        }
      ]
    },
    {
      "cell_type": "code",
      "metadata": {
        "colab": {
          "base_uri": "https://localhost:8080/",
          "height": 387
        },
        "id": "RNhJ5EfO5ejt",
        "outputId": "ee2074a5-e227-4866-dfbd-5b486eb6efa3"
      },
      "source": [
        "# Número total de observaciones\n",
        "n = df_samples.values.sum()\n",
        "# Número de casos positivos y de casos negativos\n",
        "n_neg, n_pos = df_samples.sum(axis = 1).values\n",
        "\n",
        "print(f'Num. de casos positivos: {n_pos} = {n_pos / n:.2f}')\n",
        "print(f'Num. de casos negativos: {n_neg} = {n_neg / n:.2f}')\n",
        "\n",
        "# Visualización\n",
        "fig, ax = plt.subplots(2,1, figsize=(10, 5))\n",
        "# Número total de casos\n",
        "ax[0].barh(['Pneumonia/Normal'], [n_pos])\n",
        "ax[0].barh(['Pneumonia/Normal'], [n_neg], left=[n_pos])\n",
        "ax[0].set(title='Total de casos Neumonía vs Normal')\n",
        "# Proporción de etiquetas por set\n",
        "(df_samples / df_samples.sum()).iloc[::-1].T.plot(kind='barh', ax = ax[1],\n",
        "      xlim=(0, 1), title='Proporción de clases por conjunto de datos')\n",
        "plt.tight_layout()\n",
        "plt.legend(loc='center left', bbox_to_anchor=(1.0, 0.5))\n",
        "plt.show()"
      ],
      "execution_count": null,
      "outputs": [
        {
          "output_type": "stream",
          "text": [
            "Num. de casos positivos: 4273 = 0.73\n",
            "Num. de casos negativos: 1583 = 0.27\n"
          ],
          "name": "stdout"
        },
        {
          "output_type": "display_data",
          "data": {
            "image/png": "[encoded data removed]",
            "text/plain": [
              "<Figure size 720x360 with 2 Axes>"
            ]
          },
          "metadata": {
            "tags": []
          }
        }
      ]
    },
    {
      "cell_type": "markdown",
      "metadata": {
        "id": "jDpf4Lb_5gci"
      },
      "source": [
        "# Referencias\n",
        "\n",
        "1. Mariano Rivera (2018). **[Reeuso de Redes Preentrenadas](http://personal.cimat.mx:8181/~mrivera/cursos/aprendizaje_profundo/preentrenadas/preentrenadas.html)**. *Consultado el 18 de marzo del 2021.*\n",
        "2. Eunjoo Byeon (2020). **[Exploratory Data Analysis Ideas for Image Classification](https://towardsdatascience.com/exploratory-data-analysis-ideas-for-image-classification-d3fc6bbfb2d2)**. En towardsdatascience.com. *Consultado el 18 de marzo del 2021.*\n",
        "3. Paul Mooney (2018). **[Chest X-Ray Images (Pneumonia)](https://www.kaggle.com/paultimothymooney/chest-xray-pneumonia)**. En kaggle.com. *Consultado el 18 de marzo del 2021.*\n",
        "4. Chollet, Francois (2017). **Deep Learning with Python.** New York, NY: Manning Publications."
      ]
    }
  ]
}